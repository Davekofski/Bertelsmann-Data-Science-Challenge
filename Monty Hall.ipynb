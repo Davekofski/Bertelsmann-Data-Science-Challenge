{
 "cells": [
  {
   "cell_type": "markdown",
   "metadata": {},
   "source": [
    "## Introduction to Bayesian Thinking, simulation of the Monty Hall Problem, \n",
    "Wiki introduction: https://en.wikipedia.org/wiki/Monty_Hall_problem"
   ]
  },
  {
   "cell_type": "code",
   "execution_count": 2,
   "metadata": {},
   "outputs": [],
   "source": [
    "#necessary inputs\n",
    "import numpy as np\n",
    "from matplotlib import pyplot as plt\n",
    "import seaborn as sns\n",
    "import random"
   ]
  },
  {
   "cell_type": "markdown",
   "metadata": {},
   "source": [
    "* Define a Function to simulate the Monty Hall Problem:"
   ]
  },
  {
   "cell_type": "code",
   "execution_count": 50,
   "metadata": {},
   "outputs": [],
   "source": [
    "def monty_hall(n=100):\n",
    "    # n is the number of times the game should be simulated\n",
    "    prob_win_change=0\n",
    "    prob_win_stay=0\n",
    "    wins_stay=0\n",
    "    wins_change=0\n",
    "    player_choice=0\n",
    "     #hide the treasure behind one door randomly, notice, that the door count starts at 0\n",
    "    for i in range(n):\n",
    "        treasure=random.choice(range(0,3))\n",
    "\n",
    "        #the player selects one door randomly as well\n",
    "        player_choice=random.choice(range(0,3))\n",
    " \n",
    "        #now the showmaster opens one of the remaining door (but never a door with the treasure behind it)\n",
    "        door_show=treasure\n",
    "        while door_show in [treasure,player_choice]:\n",
    "            i+=1\n",
    "            door_show=random.choice(range(0,3))      \n",
    "        \n",
    "        #now the showmaster asks the candidate whether he wants to change doors\n",
    "        player_change=player_choice\n",
    "        while player_change in [player_choice,door_show]:\n",
    "            player_change=random.choice(range(0,3))\n",
    "        if player_choice==treasure:\n",
    "            wins_stay+=1\n",
    "        if player_change==treasure:\n",
    "            wins_change+=1\n",
    "\n",
    "    prob_win_change=wins_change/n\n",
    "    prob_win_stay=wins_stay/n\n",
    "    \n",
    "    # report results\n",
    "    print(\"Number of games played: \",int(n))\n",
    "    print()\n",
    "    print(\"'stay'-Strategie: \")\n",
    "    print(\"Wins: \",int(wins_stay),\", empirical probability to win: \",str(100*ps),\" %\")\n",
    "    print()\n",
    "    print(\"'change'-Strategie: \")\n",
    "    print(\"Wins: \",int(wins_change),\", empirical probability to win: \",str(100*pc),\" %\")\n",
    "    # simple visualisation\n",
    "    plt.bar([\"stay\",\"change\"],[ps,pc],)\n",
    "    plt.title(\"Empirical probability to win for different strategies\")\n",
    "    plt.ylabel(\"probability to win the price\")\n",
    "    \n",
    "      \n",
    "    #return wins_change,wins_stay,prob_win_change,prob_win_stay"
   ]
  },
  {
   "cell_type": "markdown",
   "metadata": {},
   "source": [
    "* now we can call the function and simulate it n times and visualize the results:"
   ]
  },
  {
   "cell_type": "code",
   "execution_count": 51,
   "metadata": {},
   "outputs": [
    {
     "name": "stdout",
     "output_type": "stream",
     "text": [
      "Number of games played:  1000\n",
      "\n",
      "'stay'-Strategie: \n",
      "Wins:  356 , empirical probability to win:  31.6  %\n",
      "\n",
      "'change'-Strategie: \n",
      "Wins:  644 , empirical probability to win:  68.4  %\n"
     ]
    },
    {
     "data": {
      "image/png": "[encoded data removed]",
      "text/plain": [
       "<matplotlib.figure.Figure at 0x2119dc47160>"
      ]
     },
     "metadata": {},
     "output_type": "display_data"
    }
   ],
   "source": [
    "monty_hall(1000)"
   ]
  }
 ],
 "metadata": {
  "kernelspec": {
   "display_name": "Python 3",
   "language": "python",
   "name": "python3"
  },
  "language_info": {
   "codemirror_mode": {
    "name": "ipython",
    "version": 3
   },
   "file_extension": ".py",
   "mimetype": "text/x-python",
   "name": "python",
   "nbconvert_exporter": "python",
   "pygments_lexer": "ipython3",
   "version": "3.6.4"
  }
 },
 "nbformat": 4,
 "nbformat_minor": 2
}
